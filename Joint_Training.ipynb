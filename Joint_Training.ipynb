{
 "cells": [
  {
   "cell_type": "code",
   "execution_count": 1,
   "id": "42f4b1ff",
   "metadata": {},
   "outputs": [
    {
     "name": "stdout",
     "output_type": "stream",
     "text": [
      "PyTorch Version:  1.13.0\n",
      "Torchvision Version:  0.14.0\n",
      "device: cuda:0\n"
     ]
    }
   ],
   "source": [
    "import sys\n",
    "sys.path.append(\"../..\")\n",
    "import numpy as np\n",
    "from iirc.datasets_loader import get_lifelong_datasets\n",
    "from iirc.definitions import PYTORCH, IIRC_SETUP\n",
    "from iirc.utils.download_cifar import download_extract_cifar100\n",
    "from __future__ import print_function\n",
    "from __future__ import division\n",
    "\n",
    "import torch\n",
    "import torch.nn as nn\n",
    "import torch.optim as optim\n",
    "import numpy as np\n",
    "import torchvision\n",
    "from torchvision import datasets, models, transforms\n",
    "import matplotlib.pyplot as plt\n",
    "\n",
    "from torchvision.datasets import CIFAR100\n",
    "import torchvision.transforms as tt\n",
    "import torch.nn.functional as F\n",
    "from torchmetrics.classification import MultilabelJaccardIndex\n",
    "from torch.optim.lr_scheduler import ReduceLROnPlateau \n",
    "\n",
    "from tqdm import tqdm\n",
    "\n",
    "from metrics import jaccard_sim, modified_jaccard_sim, strict_accuracy, recall\n",
    "from resnetcifar import ResNetCIFAR\n",
    "\n",
    "import time\n",
    "import os\n",
    "import copy\n",
    "print(\"PyTorch Version: \", torch.__version__)\n",
    "print(\"Torchvision Version: \", torchvision.__version__)\n",
    "\n",
    "from IIRC_CIFAR_HIERARCHY import classHierarchy\n",
    "# Detect if we have a GPU available\n",
    "device = torch.device(\"cuda:0\" if torch.cuda.is_available() else \"cpu\")\n",
    "print(f\"device: {device}\")"
   ]
  },
  {
   "cell_type": "code",
   "execution_count": 2,
   "id": "2194ea0f",
   "metadata": {},
   "outputs": [
    {
     "name": "stdout",
     "output_type": "stream",
     "text": [
      "extracting CIFAR 100\n",
      "dataset extracted\n"
     ]
    },
    {
     "name": "stderr",
     "output_type": "stream",
     "text": [
      "/home2/anirudhkaushik/miniconda3/envs/pytorch/lib/python3.10/site-packages/iirc/utils/download_cifar.py:15: UserWarning: ../../data/cifar-100-python.tar.gz already exists, the dataset won't be download\n",
      "  warnings.warn(f\"{target_path} already exists, the dataset won't be download\")\n"
     ]
    }
   ],
   "source": [
    "download_extract_cifar100(\"../../data\")"
   ]
  },
  {
   "cell_type": "code",
   "execution_count": 3,
   "id": "b3ae20c9",
   "metadata": {},
   "outputs": [],
   "source": [
    "essential_transforms_fn = torchvision.transforms.Compose([\n",
    "    torchvision.transforms.ToTensor(),\n",
    "    torchvision.transforms.Normalize((0.5071, 0.4866, 0.4409), (0.2009, 0.1984, 0.2023)),\n",
    "])\n",
    "augmentation_transforms_fn = torchvision.transforms.Compose([\n",
    "    torchvision.transforms.RandomCrop(32, padding=4),\n",
    "    torchvision.transforms.RandomHorizontalFlip(),\n",
    "    torchvision.transforms.ToTensor(),\n",
    "    torchvision.transforms.Normalize((0.5071, 0.4866, 0.4409), (0.2009, 0.1984, 0.2023)),\n",
    "])"
   ]
  },
  {
   "cell_type": "code",
   "execution_count": 4,
   "id": "42eb54d1",
   "metadata": {},
   "outputs": [
    {
     "name": "stdout",
     "output_type": "stream",
     "text": [
      "Creating iirc_cifar100\n",
      "Setup used: IIRC\n",
      "Using PyTorch\n",
      "Dataset created\n"
     ]
    }
   ],
   "source": [
    "dataset_splits, tasks, class_names_to_idx = \\\n",
    "    get_lifelong_datasets(dataset_name = \"iirc_cifar100\",\n",
    "                          dataset_root = \"../../data\", # the imagenet folder (where the train and val folders reside, or the parent directory of cifar-100-python folder\n",
    "                          setup = IIRC_SETUP,\n",
    "                          framework = PYTORCH,\n",
    "                          tasks_configuration_id = 0,\n",
    "                          essential_transforms_fn = essential_transforms_fn,\n",
    "                          augmentation_transforms_fn = augmentation_transforms_fn,\n",
    "                          joint = True\n",
    "                         )"
   ]
  },
  {
   "cell_type": "code",
   "execution_count": 5,
   "id": "91edc066",
   "metadata": {},
   "outputs": [],
   "source": [
    "# print(len(tasks))\n",
    "n_classes_per_task = []\n",
    "for task in tasks:\n",
    "    n_classes_per_task.append(len(task))\n",
    "n_classes_per_task = np.array(n_classes_per_task)"
   ]
  },
  {
   "cell_type": "code",
   "execution_count": 6,
   "id": "d580e70c",
   "metadata": {},
   "outputs": [
    {
     "name": "stdout",
     "output_type": "stream",
     "text": [
      "train\n",
      "intask_valid\n",
      "posttask_valid\n",
      "test\n"
     ]
    }
   ],
   "source": [
    "# lifelong_datasets['train'].choose_task(2)\n",
    "# print(list(zip(*lifelong_datasets['train']))[1])\n",
    "for i in dataset_splits:\n",
    "    print(i)\n"
   ]
  },
  {
   "cell_type": "code",
   "execution_count": 7,
   "id": "7b4d9d31",
   "metadata": {},
   "outputs": [],
   "source": [
    "# initialize a pretrained model (imageNet)\n",
    "model_name = \"resnet\" #choosing alexnet since it is \"relatively\" easy to train\n",
    "# model_name = \"squeezenet\" # changed to squeezeNet since it gets same acc as alex but smaller\n",
    "num_classes = 9 # in cifar100\n",
    "\n",
    "batch_size = 4\n",
    "\n",
    "num_epochs = 14\n",
    "\n",
    "feature_extract = False #set to false so we can finetune entire model\n",
    "\n",
    "ngpu = 1"
   ]
  },
  {
   "cell_type": "code",
   "execution_count": 37,
   "id": "2156c704",
   "metadata": {},
   "outputs": [],
   "source": [
    "def train_model(model, trainloader, testloader, criterion, optimizer, num_classes, task_id, num_epochs=5, temperature=1 ):\n",
    "    since = time.time() # including this just because\n",
    "    \n",
    "    if task_id == 0:\n",
    "        num_epochs *= 2 # train for 2x num_epochs for the first task as compared to other tasks\n",
    "    for epoch in range(num_epochs):\n",
    "        print('Epoch {}/{}'.format(epoch+1, num_epochs))\n",
    "        \n",
    "                \n",
    "        running_loss = 0.0\n",
    "        data_len = 0\n",
    "        # iterate over data\n",
    "        for images,label1,label2 in tqdm(trainloader):\n",
    "            images = images.to(device)\n",
    "            label1 = one_hot_encode_labels(label1, num_classes=num_classes, gpu=True)\n",
    "#             label2 = label2.to(device)\n",
    "\n",
    "\n",
    "            #empty the gradients\n",
    "            optimizer.zero_grad()\n",
    "\n",
    "            outputs, _ = model(images)\n",
    "            \n",
    "            offset_1, offset_2 = compute_offsets(task_id)\n",
    "            outputs = outputs[:, :offset_2]\n",
    "            predictions = outputs > 0.0\n",
    "            \n",
    "            loss = criterion(outputs/temperature, label1)\n",
    "            loss.backward()\n",
    "            \n",
    "            running_loss += loss.item()\n",
    "            optimizer.step()\n",
    "            \n",
    "            train_metrics['jaccard_sim'] += jaccard_sim(predictions.to(torch.int32), label1.to(torch.int32)) * images.shape[0]\n",
    "            train_metrics['modified_jaccard_sim'] += modified_jaccard_sim(predictions.to(torch.int32), label1.to(torch.int32)) * images.shape[0]\n",
    "            train_metrics['strict_acc'] += strict_accuracy(predictions.to(torch.int32), label1.to(torch.int32)) * images.shape[0]\n",
    "            train_metrics['recall'] += recall(predictions.to(torch.int32), label1.to(torch.int64)) * images.shape[0]\n",
    "            data_len += images.shape[0]\n",
    "            \n",
    "        train_metrics['jaccard_sim'] /= data_len  \n",
    "        train_metrics['modified_jaccard_sim'] /= data_len  \n",
    "        train_metrics['strict_acc'] /= data_len  \n",
    "        train_metrics['recall'] /= data_len \n",
    "        \n",
    "        \n",
    "                \n",
    "        epoch_loss = running_loss / len(trainloader.dataset)\n",
    "        print(\"len dataset = \",len(trainloader.dataset))\n",
    "#             epoch_acc = running_corrects.double() / len(dataloaders[phase].dataset)\n",
    "            \n",
    "        print('{} Loss: {:.4f}'.format('train', epoch_loss))\n",
    "        \n",
    "        print()\n",
    "        \n",
    "        print(f\"===Training Scores===\")\n",
    "        print(f\"JS: {train_metrics['jaccard_sim']} \")\n",
    "        print(f\"modified JS: {train_metrics['modified_jaccard_sim']} \")\n",
    "        print(f\"strict accuracy: {train_metrics['strict_acc']} \")\n",
    "        print(f\"Recall: {train_metrics['recall']} \")\n",
    "        test_model(model, testloader, num_classes, task_id, mode=0)\n",
    "        model = model.to(device)\n",
    "\n",
    "    time_elapsed = time.time() - since\n",
    "    print('Training complete in {:.0f}m {:.0f}s'.format(time_elapsed // 60, time_elapsed % 60))\n",
    "\n",
    "    # load best model weights\n",
    "    return model"
   ]
  },
  {
   "cell_type": "code",
   "execution_count": 38,
   "id": "59383894",
   "metadata": {},
   "outputs": [],
   "source": [
    "def set_parameter_requires_grad(model, feature_extracting):\n",
    "    if feature_extracting:\n",
    "        for param in model.parameters():\n",
    "            param.requires_grad = False"
   ]
  },
  {
   "cell_type": "code",
   "execution_count": 39,
   "id": "52188c62",
   "metadata": {},
   "outputs": [],
   "source": [
    "def one_hot_encode_labels(label, num_classes, gpu=False):\n",
    "    \n",
    "    label = torch.from_numpy(np.array([class_names_to_idx[i] for i in label]))\n",
    "    label = F.one_hot(label, num_classes=num_classes)\n",
    "    label = label.to(torch.float32)\n",
    "    if gpu:\n",
    "        label = label.to(device)\n",
    "                       \n",
    "    return label\n",
    "                       "
   ]
  },
  {
   "cell_type": "code",
   "execution_count": 40,
   "id": "f2bc1513",
   "metadata": {},
   "outputs": [],
   "source": [
    "def compute_offsets(task):\n",
    "        offset1 = int(sum(n_classes_per_task[:task]))\n",
    "        offset2 = int(sum(n_classes_per_task[:task + 1]))\n",
    "        return offset1, offset2"
   ]
  },
  {
   "cell_type": "code",
   "execution_count": 41,
   "id": "5a54114e",
   "metadata": {},
   "outputs": [],
   "source": [
    "def test_model(model,testloader, num_classes, task_id, mode=0):\n",
    "    with torch.no_grad():\n",
    "        print(f\"Begining Testing on task {task_id}\")\n",
    "        data_len = 0 \n",
    "        \n",
    "        for i,data in enumerate(tqdm(testloader)):\n",
    "            images, label1,label2 = data\n",
    "            images = images.to(device)\n",
    "            # since subclass labels are introduced after their corresponding superclass labels,\n",
    "            # in case we encounter a subclass label, we can assume it's superclass label has already been introduced\n",
    "            # or that it's superclass does not exist\n",
    "            if not any([class_names_to_idx[j] for j in label1] < seen_classes):\n",
    "                continue\n",
    "            if label1 in classHierarchy or label1 in classHierarchy.values(): #if subclass has superclass or is superclass\n",
    "                if label1 in classHierarchy.values(): # if label is superclass label\n",
    "                    label1 = one_hot_encode_labels(label1, num_classes=num_classes)\n",
    "                    label = label1\n",
    "                else: # if label is subclass and has superclass\n",
    "                    label2 = label1\n",
    "                    label1 = classHierarchy[label1]\n",
    "                    \n",
    "                    label1 = one_hot_encode_labels(label1, num_classes=num_classes)\n",
    "\n",
    "                    label2 = one_hot_encode_labels(label2, num_classes=num_classes)\n",
    "\n",
    "                    label = label1 | label2\n",
    "                    \n",
    "            else: # subclass has no superclass\n",
    "                label1 = one_hot_encode_labels(label1, num_classes=num_classes)\n",
    "                label = label1\n",
    "\n",
    "            label = label.to(torch.int32)\n",
    "            outputs, _ = model(images) # sigmoidless \n",
    "            outputs = outputs.detach().cpu()\n",
    "            offset_1, offset_2 = compute_offsets(task_id)\n",
    "            outputs = outputs[:, :offset_2]\n",
    "            predictions = outputs > 0.0\n",
    "#             print(predicted)\n",
    "\n",
    "            valid_metrics['jaccard_sim'] += jaccard_sim(predictions.to(torch.int32), label.to(torch.int32)) * images.shape[0]\n",
    "            valid_metrics['modified_jaccard_sim'] += modified_jaccard_sim(predictions.to(torch.int32), label.to(torch.int32)) * images.shape[0]\n",
    "            valid_metrics['strict_acc'] += strict_accuracy(predictions.to(torch.int32), label.to(torch.int32)) * images.shape[0]\n",
    "            valid_metrics['recall'] += recall(predictions.to(torch.int32), label.to(torch.int64)) * images.shape[0]\n",
    "            data_len += images.shape[0]\n",
    "            \n",
    "        valid_metrics['jaccard_sim'] /= data_len  \n",
    "        valid_metrics['modified_jaccard_sim'] /= data_len  \n",
    "        valid_metrics['strict_acc'] /= data_len  \n",
    "        valid_metrics['recall'] /= data_len  \n",
    "            \n",
    "        \n",
    "            \n",
    "#             correct += (predicted == label).sum().item()\n",
    "#             correct /= batch_size\n",
    "\n",
    "#             print(preds,label)\n",
    "        if mode == 0:\n",
    "            print(\"===In-task validation===\")\n",
    "            print(f\"JS: {valid_metrics['jaccard_sim']} \")\n",
    "            print(f\"modified JS: {valid_metrics['modified_jaccard_sim']} \")\n",
    "            print(f\"strict accuracy: {valid_metrics['strict_acc']} \")\n",
    "            print(f\"Recall: {valid_metrics['recall']} \")\n",
    "            \n",
    "            \n",
    "        elif mode == 1:\n",
    "            print(\"===Post-task validation===\")\n",
    "            print(f\"JS: {valid_metrics['jaccard_sim']} \")\n",
    "            print(f\"modified JS: {valid_metrics['modified_jaccard_sim']} \")\n",
    "            print(f\"strict accuracy: {valid_metrics['strict_acc']} \")\n",
    "            print(f\"Recall: {valid_metrics['recall']} \")\n",
    "            \n",
    "        elif mode == 2:\n",
    "            print(\"===Final Test Scores===\")\n",
    "            print(f\"JS: {valid_metrics['jaccard_sim']} \")\n",
    "            print(f\"modified JS: {valid_metrics['modified_jaccard_sim']} \")\n",
    "            print(f\"strict accuracy: {valid_metrics['strict_acc']} \")\n",
    "            print(f\"Recall: {valid_metrics['recall']} \")\n",
    "            \n",
    "            \n"
   ]
  },
  {
   "cell_type": "code",
   "execution_count": 44,
   "id": "f3f18d69",
   "metadata": {},
   "outputs": [
    {
     "name": "stdout",
     "output_type": "stream",
     "text": [
      "Begining Training on Task 1\n",
      "Epoch 1/28\n"
     ]
    },
    {
     "name": "stderr",
     "output_type": "stream",
     "text": [
      "100%|████████████████████████████████████████████████████████████████████████████████████████████████████████████████████████████████████████████████████████████████████████| 10000/10000 [04:15<00:00, 39.20it/s]\n"
     ]
    },
    {
     "name": "stdout",
     "output_type": "stream",
     "text": [
      "len dataset =  40000\n",
      "train Loss: 0.0106\n",
      "\n",
      "===Training Scores===\n",
      "JS: 0.008307987455790863 \n",
      "modified JS: 0.008275249048990373 \n",
      "strict accuracy: 0.00825 \n",
      "Recall: 7.6451 \n",
      "Begining Testing on task 0\n"
     ]
    },
    {
     "name": "stderr",
     "output_type": "stream",
     "text": [
      "100%|██████████████████████████████████████████████████████████████████████████████████████████████████████████████████████████████████████████████████████████████████████████| 1250/1250 [00:14<00:00, 89.09it/s]\n"
     ]
    },
    {
     "name": "stdout",
     "output_type": "stream",
     "text": [
      "===In-task validation===\n",
      "JS: 0.0214 \n",
      "modified JS: 0.0214 \n",
      "strict accuracy: 0.0214 \n",
      "Recall: 5.2512 \n",
      "Epoch 2/28\n"
     ]
    },
    {
     "name": "stderr",
     "output_type": "stream",
     "text": [
      "100%|████████████████████████████████████████████████████████████████████████████████████████████████████████████████████████████████████████████████████████████████████████| 10000/10000 [03:45<00:00, 44.28it/s]\n"
     ]
    },
    {
     "name": "stdout",
     "output_type": "stream",
     "text": [
      "len dataset =  40000\n",
      "train Loss: 0.0095\n",
      "\n",
      "===Training Scores===\n",
      "JS: 0.02774604103326808 \n",
      "modified JS: 0.02767173465921096 \n",
      "strict accuracy: 0.027600206249999995 \n",
      "Recall: 4.7342911275 \n",
      "Begining Testing on task 0\n"
     ]
    },
    {
     "name": "stderr",
     "output_type": "stream",
     "text": [
      "100%|██████████████████████████████████████████████████████████████████████████████████████████████████████████████████████████████████████████████████████████████████████████| 1250/1250 [00:14<00:00, 85.99it/s]\n"
     ]
    },
    {
     "name": "stdout",
     "output_type": "stream",
     "text": [
      "===In-task validation===\n",
      "JS: 0.051804279999999994 \n",
      "modified JS: 0.05150427999999999 \n",
      "strict accuracy: 0.05120427999999999 \n",
      "Recall: 11.69145024 \n",
      "Epoch 3/28\n"
     ]
    },
    {
     "name": "stderr",
     "output_type": "stream",
     "text": [
      "100%|████████████████████████████████████████████████████████████████████████████████████████████████████████████████████████████████████████████████████████████████████████| 10000/10000 [03:36<00:00, 46.08it/s]\n"
     ]
    },
    {
     "name": "stdout",
     "output_type": "stream",
     "text": [
      "len dataset =  40000\n",
      "train Loss: 0.0090\n",
      "\n",
      "===Training Scores===\n",
      "JS: 0.04511319365102583 \n",
      "modified JS: 0.04486944179336648 \n",
      "strict accuracy: 0.04462569000515625 \n",
      "Recall: 7.865318357278189 \n",
      "Begining Testing on task 0\n"
     ]
    },
    {
     "name": "stderr",
     "output_type": "stream",
     "text": [
      "100%|██████████████████████████████████████████████████████████████████████████████████████████████████████████████████████████████████████████████████████████████████████████| 1250/1250 [00:13<00:00, 94.39it/s]\n"
     ]
    },
    {
     "name": "stdout",
     "output_type": "stream",
     "text": [
      "===In-task validation===\n",
      "JS: 0.051010360856 \n",
      "modified JS: 0.05071030085600001 \n",
      "strict accuracy: 0.050410240856 \n",
      "Recall: 9.287938290048 \n",
      "Epoch 4/28\n"
     ]
    },
    {
     "name": "stderr",
     "output_type": "stream",
     "text": [
      "100%|████████████████████████████████████████████████████████████████████████████████████████████████████████████████████████████████████████████████████████████████████████| 10000/10000 [03:44<00:00, 44.58it/s]\n"
     ]
    },
    {
     "name": "stdout",
     "output_type": "stream",
     "text": [
      "len dataset =  40000\n",
      "train Loss: 0.0086\n",
      "\n",
      "===Training Scores===\n",
      "JS: 0.06442612782984128 \n",
      "modified JS: 0.06400112173604483 \n",
      "strict accuracy: 0.06357611564225013 \n",
      "Recall: 11.106396632958932 \n",
      "Begining Testing on task 0\n"
     ]
    },
    {
     "name": "stderr",
     "output_type": "stream",
     "text": [
      "100%|██████████████████████████████████████████████████████████████████████████████████████████████████████████████████████████████████████████████████████████████████████████| 1250/1250 [00:13<00:00, 93.92it/s]\n"
     ]
    },
    {
     "name": "stdout",
     "output_type": "stream",
     "text": [
      "===In-task validation===\n",
      "JS: 0.0820102020721712 \n",
      "modified JS: 0.0816101420601712 \n",
      "strict accuracy: 0.08121008204817119 \n",
      "Recall: 13.709857587658009 \n",
      "Epoch 5/28\n"
     ]
    },
    {
     "name": "stderr",
     "output_type": "stream",
     "text": [
      "100%|████████████████████████████████████████████████████████████████████████████████████████████████████████████████████████████████████████████████████████████████████████| 10000/10000 [03:44<00:00, 44.47it/s]\n"
     ]
    },
    {
     "name": "stdout",
     "output_type": "stream",
     "text": [
      "len dataset =  40000\n",
      "train Loss: 0.0083\n",
      "\n",
      "===Training Scores===\n",
      "JS: 0.08685994398677743 \n",
      "modified JS: 0.08611687780602814 \n",
      "strict accuracy: 0.08537658940289106 \n",
      "Recall: 14.301377659915824 \n",
      "Begining Testing on task 0\n"
     ]
    },
    {
     "name": "stderr",
     "output_type": "stream",
     "text": [
      "100%|██████████████████████████████████████████████████████████████████████████████████████████████████████████████████████████████████████████████████████████████████████████| 1250/1250 [00:14<00:00, 87.25it/s]\n"
     ]
    },
    {
     "name": "stdout",
     "output_type": "stream",
     "text": [
      "===In-task validation===\n",
      "JS: 0.0947830687150284 \n",
      "modified JS: 0.09328854426123064 \n",
      "strict accuracy: 0.09181624201640964 \n",
      "Recall: 16.47474197151753 \n",
      "Epoch 6/28\n"
     ]
    },
    {
     "name": "stderr",
     "output_type": "stream",
     "text": [
      "100%|████████████████████████████████████████████████████████████████████████████████████████████████████████████████████████████████████████████████████████████████████████| 10000/10000 [03:44<00:00, 44.64it/s]\n"
     ]
    },
    {
     "name": "stdout",
     "output_type": "stream",
     "text": [
      "len dataset =  40000\n",
      "train Loss: 0.0080\n",
      "\n",
      "===Training Scores===\n",
      "JS: 0.10722300483218136 \n",
      "modified JS: 0.1060861806999299 \n",
      "strict accuracy: 0.10495213441473507 \n",
      "Recall: 17.845757534441496 \n",
      "Begining Testing on task 0\n"
     ]
    },
    {
     "name": "stderr",
     "output_type": "stream",
     "text": [
      "100%|██████████████████████████████████████████████████████████████████████████████████████████████████████████████████████████████████████████████████████████████████████████| 1250/1250 [00:13<00:00, 90.66it/s]\n"
     ]
    },
    {
     "name": "stdout",
     "output_type": "stream",
     "text": [
      "===In-task validation===\n",
      "JS: 0.10728562328835696 \n",
      "modified JS: 0.10634087994167085 \n",
      "strict accuracy: 0.10541836324840329 \n",
      "Recall: 17.584094948394302 \n",
      "Epoch 7/28\n"
     ]
    },
    {
     "name": "stderr",
     "output_type": "stream",
     "text": [
      "100%|████████████████████████████████████████████████████████████████████████████████████████████████████████████████████████████████████████████████████████████████████████| 10000/10000 [03:45<00:00, 44.40it/s]\n"
     ]
    },
    {
     "name": "stdout",
     "output_type": "stream",
     "text": [
      "len dataset =  40000\n",
      "train Loss: 0.0078\n",
      "\n",
      "===Training Scores===\n",
      "JS: 0.12416934724228418 \n",
      "modified JS: 0.12277070771048698 \n",
      "strict accuracy: 0.12137762380336037 \n",
      "Recall: 20.36794614393836 \n",
      "Begining Testing on task 0\n"
     ]
    },
    {
     "name": "stderr",
     "output_type": "stream",
     "text": [
      "100%|██████████████████████████████████████████████████████████████████████████████████████████████████████████████████████████████████████████████████████████████████████████| 1250/1250 [00:13<00:00, 91.04it/s]\n"
     ]
    },
    {
     "name": "stdout",
     "output_type": "stream",
     "text": [
      "===In-task validation===\n",
      "JS: 0.14208812379927163 \n",
      "modified JS: 0.14034349040880692 \n",
      "strict accuracy: 0.1386210836726497 \n",
      "Recall: 23.55151681898968 \n",
      "Epoch 8/28\n"
     ]
    },
    {
     "name": "stderr",
     "output_type": "stream",
     "text": [
      "100%|████████████████████████████████████████████████████████████████████████████████████████████████████████████████████████████████████████████████████████████████████████| 10000/10000 [03:40<00:00, 45.41it/s]\n"
     ]
    },
    {
     "name": "stdout",
     "output_type": "stream",
     "text": [
      "len dataset =  40000\n",
      "train Loss: 0.0076\n",
      "\n",
      "===Training Scores===\n",
      "JS: 0.13806977090084444 \n",
      "modified JS: 0.13629612482366224 \n",
      "strict accuracy: 0.13452803444059508 \n",
      "Recall: 22.516409198653598 \n",
      "Begining Testing on task 0\n"
     ]
    },
    {
     "name": "stderr",
     "output_type": "stream",
     "text": [
      "100%|██████████████████████████████████████████████████████████████████████████████████████████████████████████████████████████████████████████████████████████████████████████| 1250/1250 [00:13<00:00, 92.97it/s]\n"
     ]
    },
    {
     "name": "stdout",
     "output_type": "stream",
     "text": [
      "===In-task validation===\n",
      "JS: 0.12989508431129476 \n",
      "modified JS: 0.12651695761147477 \n",
      "strict accuracy: 0.12322772421673453 \n",
      "Recall: 22.535110303363798 \n",
      "Epoch 9/28\n"
     ]
    },
    {
     "name": "stderr",
     "output_type": "stream",
     "text": [
      "100%|████████████████████████████████████████████████████████████████████████████████████████████████████████████████████████████████████████████████████████████████████████| 10000/10000 [03:31<00:00, 47.18it/s]\n"
     ]
    },
    {
     "name": "stdout",
     "output_type": "stream",
     "text": [
      "len dataset =  40000\n",
      "train Loss: 0.0074\n",
      "\n",
      "===Training Scores===\n",
      "JS: 0.1509867850778542 \n",
      "modified JS: 0.1487311851811053 \n",
      "strict accuracy: 0.146478363200861 \n",
      "Recall: 24.835262910229964 \n",
      "Begining Testing on task 0\n"
     ]
    },
    {
     "name": "stderr",
     "output_type": "stream",
     "text": [
      "100%|██████████████████████████████████████████████████████████████████████████████████████████████████████████████████████████████████████████████████████████████████████████| 1250/1250 [00:13<00:00, 96.00it/s]\n"
     ]
    },
    {
     "name": "stdout",
     "output_type": "stream",
     "text": [
      "===In-task validation===\n",
      "JS: 0.15892597901686226 \n",
      "modified JS: 0.1561753033915223 \n",
      "strict accuracy: 0.15342464554484336 \n",
      "Recall: 23.762907022060674 \n",
      "Epoch 10/28\n"
     ]
    },
    {
     "name": "stderr",
     "output_type": "stream",
     "text": [
      "100%|████████████████████████████████████████████████████████████████████████████████████████████████████████████████████████████████████████████████████████████████████████| 10000/10000 [03:43<00:00, 44.84it/s]\n"
     ]
    },
    {
     "name": "stdout",
     "output_type": "stream",
     "text": [
      "len dataset =  40000\n",
      "train Loss: 0.0073\n",
      "\n",
      "===Training Scores===\n",
      "JS: 0.16529960800469876 \n",
      "modified JS: 0.1627835793926861 \n",
      "strict accuracy: 0.16027866195908003 \n",
      "Recall: 26.461120881572757 \n",
      "Begining Testing on task 0\n"
     ]
    },
    {
     "name": "stderr",
     "output_type": "stream",
     "text": [
      "100%|██████████████████████████████████████████████████████████████████████████████████████████████████████████████████████████████████████████████████████████████████████████| 1250/1250 [00:13<00:00, 96.05it/s]\n"
     ]
    },
    {
     "name": "stdout",
     "output_type": "stream",
     "text": [
      "===In-task validation===\n",
      "JS: 0.16693178519580337 \n",
      "modified JS: 0.16358123506067831 \n",
      "strict accuracy: 0.16023068492910897 \n",
      "Recall: 28.36635258140441 \n",
      "Epoch 11/28\n"
     ]
    },
    {
     "name": "stderr",
     "output_type": "stream",
     "text": [
      "100%|████████████████████████████████████████████████████████████████████████████████████████████████████████████████████████████████████████████████████████████████████████| 10000/10000 [03:33<00:00, 46.94it/s]\n"
     ]
    },
    {
     "name": "stdout",
     "output_type": "stream",
     "text": [
      "len dataset =  40000\n",
      "train Loss: 0.0072\n",
      "\n",
      "===Training Scores===\n",
      "JS: 0.1740041324924353 \n",
      "modified JS: 0.17149990292418407 \n",
      "strict accuracy: 0.16900400696654896 \n",
      "Recall: 27.59426152802204 \n",
      "Begining Testing on task 0\n"
     ]
    },
    {
     "name": "stderr",
     "output_type": "stream",
     "text": [
      "100%|██████████████████████████████████████████████████████████████████████████████████████████████████████████████████████████████████████████████████████████████████████████| 1250/1250 [00:12<00:00, 96.90it/s]\n"
     ]
    },
    {
     "name": "stdout",
     "output_type": "stream",
     "text": [
      "===In-task validation===\n",
      "JS: 0.17320005303165312 \n",
      "modified JS: 0.17030493847983075 \n",
      "strict accuracy: 0.1674320461369858 \n",
      "Recall: 25.332073270516283 \n",
      "Epoch 12/28\n"
     ]
    },
    {
     "name": "stderr",
     "output_type": "stream",
     "text": [
      "100%|████████████████████████████████████████████████████████████████████████████████████████████████████████████████████████████████████████████████████████████████████████| 10000/10000 [03:40<00:00, 45.43it/s]\n"
     ]
    },
    {
     "name": "stdout",
     "output_type": "stream",
     "text": [
      "len dataset =  40000\n",
      "train Loss: 0.0071\n",
      "\n",
      "===Training Scores===\n",
      "JS: 0.18819185010554748 \n",
      "modified JS: 0.18533970416957937 \n",
      "strict accuracy: 0.18250422510017417 \n",
      "Recall: 30.2470898565382 \n",
      "Begining Testing on task 0\n"
     ]
    },
    {
     "name": "stderr",
     "output_type": "stream",
     "text": [
      "100%|██████████████████████████████████████████████████████████████████████████████████████████████████████████████████████████████████████████████████████████████████████████| 1250/1250 [00:13<00:00, 91.85it/s]\n"
     ]
    },
    {
     "name": "stdout",
     "output_type": "stream",
     "text": [
      "===In-task validation===\n",
      "JS: 0.19986797335387377 \n",
      "modified JS: 0.19642850543247153 \n",
      "strict accuracy: 0.1930334864092274 \n",
      "Recall: 33.147466414654104 \n",
      "Epoch 13/28\n"
     ]
    },
    {
     "name": "stderr",
     "output_type": "stream",
     "text": [
      "100%|████████████████████████████████████████████████████████████████████████████████████████████████████████████████████████████████████████████████████████████████████████| 10000/10000 [03:45<00:00, 44.40it/s]\n"
     ]
    },
    {
     "name": "stdout",
     "output_type": "stream",
     "text": [
      "len dataset =  40000\n",
      "train Loss: 0.0070\n",
      "\n",
      "===Training Scores===\n",
      "JS: 0.1942005381305794 \n",
      "modified JS: 0.19139282794185017 \n",
      "strict accuracy: 0.1886045626056275 \n",
      "Recall: 31.106856177246414 \n",
      "Begining Testing on task 0\n"
     ]
    },
    {
     "name": "stderr",
     "output_type": "stream",
     "text": [
      "100%|██████████████████████████████████████████████████████████████████████████████████████████████████████████████████████████████████████████████████████████████████████████| 1250/1250 [00:13<00:00, 94.23it/s]\n"
     ]
    },
    {
     "name": "stdout",
     "output_type": "stream",
     "text": [
      "===In-task validation===\n",
      "JS: 0.2051733069379382 \n",
      "modified JS: 0.201383730157783 \n",
      "strict accuracy: 0.19763860669728187 \n",
      "Recall: 35.513029493282936 \n",
      "Epoch 14/28\n"
     ]
    },
    {
     "name": "stderr",
     "output_type": "stream",
     "text": [
      "100%|████████████████████████████████████████████████████████████████████████████████████████████████████████████████████████████████████████████████████████████████████████| 10000/10000 [03:49<00:00, 43.64it/s]\n"
     ]
    },
    {
     "name": "stdout",
     "output_type": "stream",
     "text": [
      "len dataset =  40000\n",
      "train Loss: 0.0069\n",
      "\n",
      "===Training Scores===\n",
      "JS: 0.20217152169104746 \n",
      "modified JS: 0.1990895070490468 \n",
      "strict accuracy: 0.19602971511406514 \n",
      "Recall: 31.793077671404426 \n",
      "Begining Testing on task 0\n"
     ]
    },
    {
     "name": "stderr",
     "output_type": "stream",
     "text": [
      "100%|██████████████████████████████████████████████████████████████████████████████████████████████████████████████████████████████████████████████████████████████████████████| 1250/1250 [00:12<00:00, 97.23it/s]\n"
     ]
    },
    {
     "name": "stdout",
     "output_type": "stream",
     "text": [
      "===In-task validation===\n",
      "JS: 0.219374368004655 \n",
      "modified JS: 0.2155847212027281 \n",
      "strict accuracy: 0.21183952772133943 \n",
      "Recall: 37.44950260589866 \n",
      "Epoch 15/28\n"
     ]
    },
    {
     "name": "stderr",
     "output_type": "stream",
     "text": [
      "100%|████████████████████████████████████████████████████████████████████████████████████████████████████████████████████████████████████████████████████████████████████████| 10000/10000 [03:35<00:00, 46.46it/s]\n"
     ]
    },
    {
     "name": "stdout",
     "output_type": "stream",
     "text": [
      "len dataset =  40000\n",
      "train Loss: 0.0068\n",
      "\n",
      "===Training Scores===\n",
      "JS: 0.21245505429698297 \n",
      "modified JS: 0.2091924772451268 \n",
      "strict accuracy: 0.20595490074287787 \n",
      "Recall: 33.499894826941784 \n",
      "Begining Testing on task 0\n"
     ]
    },
    {
     "name": "stderr",
     "output_type": "stream",
     "text": [
      "100%|█████████████████████████████████████████████████████████████████████████████████████████████████████████████████████████████████████████████████████████████████████████| 1250/1250 [00:12<00:00, 103.60it/s]\n"
     ]
    },
    {
     "name": "stdout",
     "output_type": "stream",
     "text": [
      "===In-task validation===\n",
      "JS: 0.20254387487360093 \n",
      "modified JS: 0.19929311694424054 \n",
      "strict accuracy: 0.19604236790554427 \n",
      "Recall: 32.850689900521175 \n",
      "Epoch 16/28\n"
     ]
    },
    {
     "name": "stderr",
     "output_type": "stream",
     "text": [
      "100%|████████████████████████████████████████████████████████████████████████████████████████████████████████████████████████████████████████████████████████████████████████| 10000/10000 [03:48<00:00, 43.74it/s]\n"
     ]
    },
    {
     "name": "stdout",
     "output_type": "stream",
     "text": [
      "len dataset =  40000\n",
      "train Loss: 0.0067\n",
      "\n",
      "===Training Scores===\n",
      "JS: 0.2209928113785926 \n",
      "modified JS: 0.21777814647946703 \n",
      "strict accuracy: 0.21458014887251856 \n",
      "Recall: 33.96283749737067 \n",
      "Begining Testing on task 0\n"
     ]
    },
    {
     "name": "stderr",
     "output_type": "stream",
     "text": [
      "100%|█████████████████████████████████████████████████████████████████████████████████████████████████████████████████████████████████████████████████████████████████████████| 1250/1250 [00:12<00:00, 100.71it/s]\n"
     ]
    },
    {
     "name": "stdout",
     "output_type": "stream",
     "text": [
      "===In-task validation===\n",
      "JS: 0.21194050879285609 \n",
      "modified JS: 0.20785652531290397 \n",
      "strict accuracy: 0.2038392084735811 \n",
      "Recall: 34.327370137980104 \n",
      "Epoch 17/28\n"
     ]
    },
    {
     "name": "stderr",
     "output_type": "stream",
     "text": [
      "100%|████████████████████████████████████████████████████████████████████████████████████████████████████████████████████████████████████████████████████████████████████████| 10000/10000 [03:43<00:00, 44.80it/s]\n"
     ]
    },
    {
     "name": "stdout",
     "output_type": "stream",
     "text": [
      "len dataset =  40000\n",
      "train Loss: 0.0067\n",
      "\n",
      "===Training Scores===\n",
      "JS: 0.2239034414934083 \n",
      "modified JS: 0.22038339584693845 \n",
      "strict accuracy: 0.21688036450372183 \n",
      "Recall: 34.45554907093743 \n",
      "Begining Testing on task 0\n"
     ]
    },
    {
     "name": "stderr",
     "output_type": "stream",
     "text": [
      "100%|██████████████████████████████████████████████████████████████████████████████████████████████████████████████████████████████████████████████████████████████████████████| 1250/1250 [00:13<00:00, 95.87it/s]\n"
     ]
    },
    {
     "name": "stdout",
     "output_type": "stream",
     "text": [
      "===In-task validation===\n",
      "JS: 0.21877572144502602 \n",
      "modified JS: 0.21508601576175906 \n",
      "strict accuracy: 0.21144076784169474 \n",
      "Recall: 38.00446547402759 \n",
      "Epoch 18/28\n"
     ]
    },
    {
     "name": "stderr",
     "output_type": "stream",
     "text": [
      "100%|████████████████████████████████████████████████████████████████████████████████████████████████████████████████████████████████████████████████████████████████████████| 10000/10000 [03:42<00:00, 44.85it/s]\n"
     ]
    },
    {
     "name": "stdout",
     "output_type": "stream",
     "text": [
      "len dataset =  40000\n",
      "train Loss: 0.0066\n",
      "\n",
      "===Training Scores===\n",
      "JS: 0.2293639309263245 \n",
      "modified JS: 0.22600828737144907 \n",
      "strict accuracy: 0.2226804220091126 \n",
      "Recall: 35.809461388726774 \n",
      "Begining Testing on task 0\n"
     ]
    },
    {
     "name": "stderr",
     "output_type": "stream",
     "text": [
      "100%|██████████████████████████████████████████████████████████████████████████████████████████████████████████████████████████████████████████████████████████████████████████| 1250/1250 [00:13<00:00, 89.99it/s]\n"
     ]
    },
    {
     "name": "stdout",
     "output_type": "stream",
     "text": [
      "===In-task validation===\n",
      "JS: 0.229293755144289 \n",
      "modified JS: 0.22465551720315233 \n",
      "strict accuracy: 0.22004228815356833 \n",
      "Recall: 38.55480089309481 \n",
      "Epoch 19/28\n"
     ]
    },
    {
     "name": "stderr",
     "output_type": "stream",
     "text": [
      "100%|████████████████████████████████████████████████████████████████████████████████████████████████████████████████████████████████████████████████████████████████████████| 10000/10000 [03:40<00:00, 45.34it/s]\n"
     ]
    },
    {
     "name": "stdout",
     "output_type": "stream",
     "text": [
      "len dataset =  40000\n",
      "train Loss: 0.0065\n",
      "\n",
      "===Training Scores===\n",
      "JS: 0.2361182341101941 \n",
      "modified JS: 0.23237440021463485 \n",
      "strict accuracy: 0.2286555670105502 \n",
      "Recall: 36.38939523653472 \n",
      "Begining Testing on task 0\n"
     ]
    },
    {
     "name": "stderr",
     "output_type": "stream",
     "text": [
      "100%|██████████████████████████████████████████████████████████████████████████████████████████████████████████████████████████████████████████████████████████████████████████| 1250/1250 [00:12<00:00, 98.12it/s]\n"
     ]
    },
    {
     "name": "stdout",
     "output_type": "stream",
     "text": [
      "===In-task validation===\n",
      "JS: 0.22484585875102883 \n",
      "modified JS: 0.22144493110344066 \n",
      "strict accuracy: 0.2180440084576307 \n",
      "Recall: 35.77891096017862 \n",
      "Epoch 20/28\n"
     ]
    },
    {
     "name": "stderr",
     "output_type": "stream",
     "text": [
      "100%|████████████████████████████████████████████████████████████████████████████████████████████████████████████████████████████████████████████████████████████████████████| 10000/10000 [03:45<00:00, 44.43it/s]\n"
     ]
    },
    {
     "name": "stdout",
     "output_type": "stream",
     "text": [
      "len dataset =  40000\n",
      "train Loss: 0.0065\n",
      "\n",
      "===Training Scores===\n",
      "JS: 0.2434725696304667 \n",
      "modified JS: 0.23971553158835363 \n",
      "strict accuracy: 0.23598071638917525 \n",
      "Recall: 37.562409734880916 \n",
      "Begining Testing on task 0\n"
     ]
    },
    {
     "name": "stderr",
     "output_type": "stream",
     "text": [
      "100%|██████████████████████████████████████████████████████████████████████████████████████████████████████████████████████████████████████████████████████████████████████████| 1250/1250 [00:12<00:00, 97.48it/s]\n"
     ]
    },
    {
     "name": "stdout",
     "output_type": "stream",
     "text": [
      "===In-task validation===\n",
      "JS: 0.241144969207513 \n",
      "modified JS: 0.2366609556667951 \n",
      "strict accuracy: 0.2322436088016915 \n",
      "Recall: 39.92475578219204 \n",
      "Epoch 21/28\n"
     ]
    },
    {
     "name": "stderr",
     "output_type": "stream",
     "text": [
      "100%|████████████████████████████████████████████████████████████████████████████████████████████████████████████████████████████████████████████████████████████████████████| 10000/10000 [03:42<00:00, 44.94it/s]\n"
     ]
    },
    {
     "name": "stdout",
     "output_type": "stream",
     "text": [
      "len dataset =  40000\n",
      "train Loss: 0.0064\n",
      "\n",
      "===Training Scores===\n",
      "JS: 0.24518942016495876 \n",
      "modified JS: 0.24117543734573127 \n",
      "strict accuracy: 0.2372058995179097 \n",
      "Recall: 38.80903906024337 \n",
      "Begining Testing on task 0\n"
     ]
    },
    {
     "name": "stderr",
     "output_type": "stream",
     "text": [
      "100%|██████████████████████████████████████████████████████████████████████████████████████████████████████████████████████████████████████████████████████████████████████████| 1250/1250 [00:13<00:00, 91.72it/s]\n"
     ]
    },
    {
     "name": "stdout",
     "output_type": "stream",
     "text": [
      "===In-task validation===\n",
      "JS: 0.22834822900576246 \n",
      "modified JS: 0.2241639988717078 \n",
      "strict accuracy: 0.22004644872176032 \n",
      "Recall: 38.115984951156435 \n",
      "Epoch 22/28\n"
     ]
    },
    {
     "name": "stderr",
     "output_type": "stream",
     "text": [
      "100%|████████████████████████████████████████████████████████████████████████████████████████████████████████████████████████████████████████████████████████████████████████| 10000/10000 [03:42<00:00, 44.97it/s]\n"
     ]
    },
    {
     "name": "stdout",
     "output_type": "stream",
     "text": [
      "len dataset =  40000\n",
      "train Loss: 0.0064\n",
      "\n",
      "===Training Scores===\n",
      "JS: 0.2554977964063928 \n",
      "modified JS: 0.2515532516116742 \n",
      "strict accuracy: 0.24763093014748794 \n",
      "Recall: 38.678270225976505 \n",
      "Begining Testing on task 0\n"
     ]
    },
    {
     "name": "stderr",
     "output_type": "stream",
     "text": [
      "100%|██████████████████████████████████████████████████████████████████████████████████████████████████████████████████████████████████████████████████████████████████████████| 1250/1250 [00:13<00:00, 90.48it/s]\n"
     ]
    },
    {
     "name": "stdout",
     "output_type": "stream",
     "text": [
      "===In-task validation===\n",
      "JS: 0.2500123363919407 \n",
      "modified JS: 0.24538372173104878 \n",
      "strict accuracy: 0.24084400928974437 \n",
      "Recall: 41.40442319699023 \n",
      "Epoch 23/28\n"
     ]
    },
    {
     "name": "stderr",
     "output_type": "stream",
     "text": [
      "100%|████████████████████████████████████████████████████████████████████████████████████████████████████████████████████████████████████████████████████████████████████████| 10000/10000 [03:44<00:00, 44.53it/s]\n"
     ]
    },
    {
     "name": "stdout",
     "output_type": "stream",
     "text": [
      "len dataset =  40000\n",
      "train Loss: 0.0063\n",
      "\n",
      "===Training Scores===\n",
      "JS: 0.25664805411579883 \n",
      "modified JS: 0.25285351105852094 \n",
      "strict accuracy: 0.2490811907732537 \n",
      "Recall: 38.449966956755645 \n",
      "Begining Testing on task 0\n"
     ]
    },
    {
     "name": "stderr",
     "output_type": "stream",
     "text": [
      "100%|██████████████████████████████████████████████████████████████████████████████████████████████████████████████████████████████████████████████████████████████████████████| 1250/1250 [00:13<00:00, 92.44it/s]\n"
     ]
    },
    {
     "name": "stdout",
     "output_type": "stream",
     "text": [
      "===In-task validation===\n",
      "JS: 0.2528166691657342 \n",
      "modified JS: 0.24852129897716482 \n",
      "strict accuracy: 0.24424816880185796 \n",
      "Recall: 39.396280884639395 \n",
      "Epoch 24/28\n"
     ]
    },
    {
     "name": "stderr",
     "output_type": "stream",
     "text": [
      "100%|████████████████████████████████████████████████████████████████████████████████████████████████████████████████████████████████████████████████████████████████████████| 10000/10000 [03:48<00:00, 43.78it/s]\n"
     ]
    },
    {
     "name": "stdout",
     "output_type": "stream",
     "text": [
      "len dataset =  40000\n",
      "train Loss: 0.0063\n",
      "\n",
      "===Training Scores===\n",
      "JS: 0.2611189162080584 \n",
      "modified JS: 0.25732507134634464 \n",
      "strict accuracy: 0.2535562270297693 \n",
      "Recall: 38.803561249173924 \n",
      "Begining Testing on task 0\n"
     ]
    },
    {
     "name": "stderr",
     "output_type": "stream",
     "text": [
      "100%|██████████████████████████████████████████████████████████████████████████████████████████████████████████████████████████████████████████████████████████████████████████| 1250/1250 [00:13<00:00, 95.85it/s]\n"
     ]
    },
    {
     "name": "stdout",
     "output_type": "stream",
     "text": [
      "===In-task validation===\n",
      "JS: 0.2706838966771006 \n",
      "modified JS: 0.26544414871649197 \n",
      "strict accuracy: 0.2602488496337603 \n",
      "Recall: 45.917479256176925 \n",
      "Epoch 25/28\n"
     ]
    },
    {
     "name": "stderr",
     "output_type": "stream",
     "text": [
      "100%|████████████████████████████████████████████████████████████████████████████████████████████████████████████████████████████████████████████████████████████████████████| 10000/10000 [03:46<00:00, 44.14it/s]\n"
     ]
    },
    {
     "name": "stdout",
     "output_type": "stream",
     "text": [
      "len dataset =  40000\n",
      "train Loss: 0.0063\n",
      "\n",
      "===Training Scores===\n",
      "JS: 0.265508611320643 \n",
      "modified JS: 0.26148785674840835 \n",
      "strict accuracy: 0.25750633890567576 \n",
      "Recall: 40.29497008903123 \n",
      "Begining Testing on task 0\n"
     ]
    },
    {
     "name": "stderr",
     "output_type": "stream",
     "text": [
      "100%|██████████████████████████████████████████████████████████████████████████████████████████████████████████████████████████████████████████████████████████████████████████| 1250/1250 [00:13<00:00, 92.19it/s]\n"
     ]
    },
    {
     "name": "stdout",
     "output_type": "stream",
     "text": [
      "===In-task validation===\n",
      "JS: 0.25718747012856336 \n",
      "modified JS: 0.25259753329538054 \n",
      "strict accuracy: 0.24805204976992673 \n",
      "Recall: 41.51478349585123 \n",
      "Epoch 26/28\n"
     ]
    },
    {
     "name": "stderr",
     "output_type": "stream",
     "text": [
      "100%|████████████████████████████████████████████████████████████████████████████████████████████████████████████████████████████████████████████████████████████████████████| 10000/10000 [03:41<00:00, 45.16it/s]\n"
     ]
    },
    {
     "name": "stdout",
     "output_type": "stream",
     "text": [
      "len dataset =  40000\n",
      "train Loss: 0.0062\n",
      "\n",
      "===Training Scores===\n",
      "JS: 0.2699524710645109 \n",
      "modified JS: 0.26603639831729836 \n",
      "strict accuracy: 0.26215643765847263 \n",
      "Recall: 41.060907374252224 \n",
      "Begining Testing on task 0\n"
     ]
    },
    {
     "name": "stderr",
     "output_type": "stream",
     "text": [
      "100%|██████████████████████████████████████████████████████████████████████████████████████████████████████████████████████████████████████████████████████████████████████████| 1250/1250 [00:13<00:00, 92.56it/s]\n"
     ]
    },
    {
     "name": "stdout",
     "output_type": "stream",
     "text": [
      "===In-task validation===\n",
      "JS: 0.2694514375417094 \n",
      "modified JS: 0.2646171862051149 \n",
      "strict accuracy: 0.25984961040995397 \n",
      "Recall: 44.990702956699174 \n",
      "Epoch 27/28\n"
     ]
    },
    {
     "name": "stderr",
     "output_type": "stream",
     "text": [
      "100%|████████████████████████████████████████████████████████████████████████████████████████████████████████████████████████████████████████████████████████████████████████| 10000/10000 [03:40<00:00, 45.32it/s]\n"
     ]
    },
    {
     "name": "stdout",
     "output_type": "stream",
     "text": [
      "len dataset =  40000\n",
      "train Loss: 0.0062\n",
      "\n",
      "===Training Scores===\n",
      "JS: 0.2703754988192272 \n",
      "modified JS: 0.2666436300823367 \n",
      "strict accuracy: 0.2629315539109415 \n",
      "Recall: 40.38022652268435 \n",
      "Begining Testing on task 0\n"
     ]
    },
    {
     "name": "stderr",
     "output_type": "stream",
     "text": [
      "100%|██████████████████████████████████████████████████████████████████████████████████████████████████████████████████████████████████████████████████████████████████████████| 1250/1250 [00:13<00:00, 89.35it/s]\n"
     ]
    },
    {
     "name": "stdout",
     "output_type": "stream",
     "text": [
      "===In-task validation===\n",
      "JS: 0.27132055696808277 \n",
      "modified JS: 0.26694181234169334 \n",
      "strict accuracy: 0.262651969922082 \n",
      "Recall: 42.778598140591335 \n",
      "Epoch 28/28\n"
     ]
    },
    {
     "name": "stderr",
     "output_type": "stream",
     "text": [
      "100%|████████████████████████████████████████████████████████████████████████████████████████████████████████████████████████████████████████████████████████████████████████| 10000/10000 [03:43<00:00, 44.70it/s]\n"
     ]
    },
    {
     "name": "stdout",
     "output_type": "stream",
     "text": [
      "len dataset =  40000\n",
      "train Loss: 0.0062\n",
      "\n",
      "===Training Scores===\n",
      "JS: 0.2765484260538888 \n",
      "modified JS: 0.2726080549829109 \n",
      "strict accuracy: 0.2686815732888478 \n",
      "Recall: 41.39480950566307 \n",
      "Begining Testing on task 0\n"
     ]
    },
    {
     "name": "stderr",
     "output_type": "stream",
     "text": [
      "100%|██████████████████████████████████████████████████████████████████████████████████████████████████████████████████████████████████████████████████████████████████████████| 1250/1250 [00:13<00:00, 96.03it/s]\n"
     ]
    },
    {
     "name": "stdout",
     "output_type": "stream",
     "text": [
      "===In-task validation===\n",
      "JS: 0.26272093079792846 \n",
      "modified JS: 0.25884227727586134 \n",
      "strict accuracy: 0.2550525303939844 \n",
      "Recall: 39.507755719628115 \n",
      "Training complete in 110m 40s\n",
      "Begining Testing on task 0\n"
     ]
    },
    {
     "name": "stderr",
     "output_type": "stream",
     "text": [
      "100%|██████████████████████████████████████████████████████████████████████████████████████████████████████████████████████████████████████████████████████████████████████████| 1250/1250 [00:13<00:00, 92.16it/s]"
     ]
    },
    {
     "name": "stdout",
     "output_type": "stream",
     "text": [
      "===Post-task validation===\n",
      "JS: 0.2681525441801991 \n",
      "modified JS: 0.26336843514497027 \n",
      "strict accuracy: 0.2586510105060788 \n",
      "Recall: 42.601501551143926 \n"
     ]
    },
    {
     "name": "stderr",
     "output_type": "stream",
     "text": [
      "\n"
     ]
    }
   ],
   "source": [
    "# Setup \n",
    "# BCE loss for multi-label classification\n",
    "# sigmoid activation after FC layer \n",
    "# everything above 0.5 is a predicted label\n",
    "\n",
    "criterion = nn.BCEWithLogitsLoss(reduction=\"mean\") # as output is sigmoidless\n",
    "\n",
    "# get dataset corresponding to each split\n",
    "train_data = dataset_splits[\"train\"]\n",
    "intask_val_data = dataset_splits[\"intask_valid\"]\n",
    "posttask_val_data = dataset_splits[\"posttask_valid\"]\n",
    "test_data = dataset_splits[\"test\"]\n",
    "\n",
    "# pre-trained Model on imageNet \n",
    "# resnet = models.resnet50(weights=models.ResNet50_Weights.IMAGENET1K_V2)\n",
    "seen_classes = 0\n",
    "seen_classes_list = []\n",
    "output_layer_size = int(sum(n_classes_per_task))\n",
    "\n",
    "# additional network features\n",
    "temperature = 1.0\n",
    "weight_decay = 1e-5\n",
    "\n",
    "\n",
    "resnet = ResNetCIFAR(num_classes=output_layer_size, num_layers=20 )\n",
    "resnet = resnet.to(device)\n",
    "optimizer = optim.SGD(resnet.parameters(), lr=0.1, momentum=0.9, weight_decay=weight_decay)\n",
    "\n",
    "\n",
    "# scheduler # TO DO\n",
    "\n",
    "# resnet = models.resnet18(weights=models.ResNet18_Weights.DEFAULT)\n",
    "\n",
    "\n",
    "# initialize data to train on first task\n",
    "for task_id, task in enumerate(tasks):\n",
    "    train_metrics = {\"jaccard_sim\" : 0, \"modified_jaccard_sim\" : 0, \"strict_acc\" : 0, \"recall\" : 0}\n",
    "    valid_metrics = {\"jaccard_sim\" : 0, \"modified_jaccard_sim\" : 0, \"strict_acc\" : 0, \"recall\" : 0}\n",
    "    train_data.choose_task(task_id)\n",
    "    intask_val_data.choose_task(task_id)\n",
    "    posttask_val_data.choose_task(task_id)\n",
    "    \n",
    "    trainloader = torch.utils.data.DataLoader(train_data, batch_size=batch_size, shuffle=True, num_workers=2)\n",
    "    InTask_valloader = torch.utils.data.DataLoader(intask_val_data, batch_size=batch_size, shuffle=True, num_workers=2)\n",
    "    PostTask_valloader = torch.utils.data.DataLoader(posttask_val_data, batch_size=batch_size, shuffle=True, num_workers=2)\n",
    "    \n",
    "    seen_classes += n_classes_per_task[task_id]\n",
    "    seen_classes_list = list(set(seen_classes_list) | set(task))\n",
    "            \n",
    "    if (device.type == 'cuda') and (ngpu > 1):\n",
    "        print(f\"Training on multiple gps ({ngpu})\")    \n",
    "        resnet = nn.DataParallel(resnet,list(range(ngpu)))\n",
    "            \n",
    "    print(f\"Begining Training on Task {task_id+1}\")\n",
    "    resnet = train_model(resnet, trainloader, InTask_valloader, criterion, optimizer, seen_classes,task_id, num_epochs)\n",
    "    test_model(resnet, InTask_valloader,seen_classes, task_id, mode=1)\n",
    "\n",
    "# resnet = train_model(resnet, dataloader_dict, criterion, optimizer, num_epochs=num_epochs, is_inception=(model_name==\"inception\"))"
   ]
  },
  {
   "cell_type": "code",
   "execution_count": 45,
   "id": "f4b07933",
   "metadata": {},
   "outputs": [],
   "source": [
    "PATH = \"models/resnet50_JOINT.pth\"\n",
    "torch.save(resnet.state_dict(), PATH)"
   ]
  }
 ],
 "metadata": {
  "kernelspec": {
   "display_name": "Python 3 (ipykernel)",
   "language": "python",
   "name": "python3"
  },
  "language_info": {
   "codemirror_mode": {
    "name": "ipython",
    "version": 3
   },
   "file_extension": ".py",
   "mimetype": "text/x-python",
   "name": "python",
   "nbconvert_exporter": "python",
   "pygments_lexer": "ipython3",
   "version": "3.10.8"
  }
 },
 "nbformat": 4,
 "nbformat_minor": 5
}
